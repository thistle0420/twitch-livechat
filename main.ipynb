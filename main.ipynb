{
  "nbformat": 4,
  "nbformat_minor": 0,
  "metadata": {
    "colab": {
      "provenance": [],
      "authorship_tag": "ABX9TyNtKu8CoaWC/GLbRQCF+kTh",
      "include_colab_link": true
    },
    "kernelspec": {
      "name": "python3",
      "display_name": "Python 3"
    },
    "language_info": {
      "name": "python"
    }
  },
  "cells": [
    {
      "cell_type": "markdown",
      "metadata": {
        "id": "view-in-github",
        "colab_type": "text"
      },
      "source": [
        "<a href=\"https://colab.research.google.com/github/thistle0420/twitch-livechat/blob/main/main.ipynb\" target=\"_parent\"><img src=\"https://colab.research.google.com/assets/colab-badge.svg\" alt=\"Open In Colab\"/></a>"
      ]
    },
    {
      "cell_type": "code",
      "source": [
        "# 動画URL\n",
        "URL = 'https://www.twitch.tv/videos/1893096432'\n",
        "# 動画ID\n",
        "VIDEOID = URL.split('/')[-1]\n",
        "# GoogleSpreadsheetのID\n",
        "KEY = '1lPUR4L97naiUZcZAd2P3ebTjADqBHP_w0a5WFT1IpNw'\n"
      ],
      "metadata": {
        "id": "V2_5I9j1IORm"
      },
      "execution_count": 147,
      "outputs": []
    },
    {
      "cell_type": "code",
      "source": [
        "import requests\n",
        "from string import Template\n",
        "\n",
        "headers = {\n",
        "    'Client-Id': 'kimne78kx3ncx6brgo4mv6wki5h1ko',\n",
        "}\n",
        "\n",
        "num = 0\n",
        "output = [['オフセット', 'ユーザ名', 'コメント']]\n",
        "\n",
        "t = Template('[{\"operationName\":\"VideoCommentsByOffsetOrCursor\",\"variables\":{\"videoID\":\"${videoid}\",\"contentOffsetSeconds\":${contentOffsetSeconds}},\"extensions\":{\"persistedQuery\":{\"version\":1,\"sha256Hash\":\"b70a3591ff0f4e0313d126c6a1502d79a1c02baebb288227c582044aa76adf6a\"}}}]')\n",
        "\n",
        "while True:\n",
        "  print(num)\n",
        "  response = requests.post('https://gql.twitch.tv/gql', headers=headers, data=t.substitute(videoid=VIDEOID, contentOffsetSeconds=num))\n",
        "  if 'errors' in response.json()[0]:\n",
        "    break\n",
        "  edges = response.json()[0]['data']['video']['comments']['edges']\n",
        "\n",
        "  for edge in edges:\n",
        "    node = edge['node']\n",
        "    contentOffsetSeconds = node['contentOffsetSeconds']\n",
        "    if contentOffsetSeconds < num:\n",
        "      continue\n",
        "\n",
        "    commenter = node['commenter']\n",
        "    if commenter is None:\n",
        "      name = ''\n",
        "    else:\n",
        "      name = node['commenter']['displayName']\n",
        "\n",
        "    fragments = node['message']['fragments']\n",
        "    text = ''\n",
        "    for fragment in fragments:\n",
        "      if fragment['emote'] == None:\n",
        "        text += fragment['text']\n",
        "      else:\n",
        "        text += '[' + fragment['text'] + ']'\n",
        "\n",
        "    output.append([contentOffsetSeconds, name, text])\n",
        "  else:\n",
        "    num = contentOffsetSeconds + 1\n"
      ],
      "metadata": {
        "colab": {
          "base_uri": "https://localhost:8080/"
        },
        "id": "9e0DrmxiwZ-C",
        "outputId": "a4d9ba0c-6236-492c-d779-987b10179bfb"
      },
      "execution_count": 150,
      "outputs": [
        {
          "output_type": "stream",
          "name": "stdout",
          "text": [
            "0\n",
            "26\n",
            "32\n",
            "37\n",
            "41\n",
            "47\n",
            "54\n",
            "69\n",
            "85\n",
            "107\n",
            "164\n",
            "243\n",
            "290\n",
            "321\n",
            "358\n",
            "419\n",
            "470\n",
            "495\n",
            "510\n",
            "532\n",
            "581\n",
            "636\n",
            "658\n",
            "667\n",
            "714\n",
            "753\n",
            "825\n",
            "844\n",
            "869\n",
            "928\n",
            "939\n",
            "1032\n",
            "1092\n",
            "1117\n",
            "1171\n",
            "1281\n",
            "1415\n",
            "1422\n",
            "1426\n",
            "1433\n",
            "1459\n",
            "1483\n",
            "1589\n",
            "1744\n",
            "1788\n",
            "1906\n",
            "1956\n",
            "1990\n",
            "1997\n",
            "2041\n",
            "2124\n",
            "2151\n",
            "2162\n",
            "2191\n",
            "2248\n",
            "2297\n",
            "2418\n",
            "2510\n",
            "2556\n",
            "2634\n",
            "2741\n",
            "2754\n",
            "2882\n",
            "2909\n",
            "2969\n",
            "2991\n",
            "3095\n",
            "3170\n",
            "3229\n",
            "3241\n",
            "3248\n",
            "3279\n",
            "3290\n",
            "3345\n",
            "3387\n",
            "3429\n",
            "3493\n",
            "3565\n",
            "3660\n",
            "3760\n",
            "3797\n",
            "3801\n"
          ]
        }
      ]
    },
    {
      "cell_type": "code",
      "source": [
        "from google.colab import auth\n",
        "auth.authenticate_user()\n",
        "\n",
        "import gspread\n",
        "from google.auth import default\n",
        "creds, _ = default()\n",
        "\n",
        "gc = gspread.authorize(creds)\n",
        "\n",
        "sh = gc.open_by_key(KEY)\n",
        "try:\n",
        "  sh.add_worksheet(VIDEOID, rows=30, cols=20)\n",
        "except Exception as e :\n",
        "  sh.worksheet(VIDEOID).clear()\n",
        "\n",
        "sh.values_append(VIDEOID, {\"valueInputOption\": \"USER_ENTERED\"}, {\"values\": output})"
      ],
      "metadata": {
        "colab": {
          "base_uri": "https://localhost:8080/"
        },
        "id": "cXECG5v1HYtz",
        "outputId": "06a6f94f-1912-494a-f041-846e17b6b494"
      },
      "execution_count": 151,
      "outputs": [
        {
          "output_type": "execute_result",
          "data": {
            "text/plain": [
              "{'spreadsheetId': '1lPUR4L97naiUZcZAd2P3ebTjADqBHP_w0a5WFT1IpNw',\n",
              " 'updates': {'spreadsheetId': '1lPUR4L97naiUZcZAd2P3ebTjADqBHP_w0a5WFT1IpNw',\n",
              "  'updatedRange': \"'1893096432'!A1:C3444\",\n",
              "  'updatedRows': 3444,\n",
              "  'updatedColumns': 3,\n",
              "  'updatedCells': 10332}}"
            ]
          },
          "metadata": {},
          "execution_count": 151
        }
      ]
    }
  ]
}